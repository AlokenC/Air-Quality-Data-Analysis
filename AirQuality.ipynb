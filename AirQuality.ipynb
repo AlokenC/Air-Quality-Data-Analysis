{
  "nbformat": 4,
  "nbformat_minor": 0,
  "metadata": {
    "colab": {
      "provenance": []
    },
    "kernelspec": {
      "name": "python3",
      "display_name": "Python 3"
    },
    "language_info": {
      "name": "python"
    }
  },
  "cells": [
    {
      "cell_type": "code",
      "execution_count": null,
      "metadata": {
        "id": "N2JRnwWjzb_l"
      },
      "outputs": [],
      "source": [
        "import pandas as pd\n",
        "import matplotlib.pyplot as plt\n",
        "import seaborn as sns"
      ]
    },
    {
      "cell_type": "markdown",
      "source": [
        "# Air Quality Dataset\n",
        "\n",
        "As someone who has always been environmentally conscious, this dataset immediately caught my eye. I believe that there are some very interesting insights which can be found from running a data analysis on this dataset. This dataset represents the greenhouse gas emissions along the supply chain.\n",
        "\n",
        "Link(https://catalog.data.gov/dataset/supply-chain-greenhouse-gas-emission-factors-v1-3-by-naics-6)"
      ],
      "metadata": {
        "id": "eDWNpgsEz1jK"
      }
    },
    {
      "cell_type": "code",
      "source": [
        "df = pd.read_csv('/content/SupplyChainGHGEmissionFactors_v1.3.0_NAICS_CO2e_USD2022.csv')\n",
        "df.head()"
      ],
      "metadata": {
        "colab": {
          "base_uri": "https://localhost:8080/",
          "height": 640
        },
        "id": "gYCMh1vOzg13",
        "outputId": "fd5a687b-557e-46c1-8a13-5694167d7226"
      },
      "execution_count": null,
      "outputs": [
        {
          "output_type": "execute_result",
          "data": {
            "text/plain": [
              "   2017 NAICS Code                  2017 NAICS Title       GHG  \\\n",
              "0           111110                   Soybean Farming  All GHGs   \n",
              "1           111120  Oilseed (except Soybean) Farming  All GHGs   \n",
              "2           111130          Dry Pea and Bean Farming  All GHGs   \n",
              "3           111140                     Wheat Farming  All GHGs   \n",
              "4           111150                      Corn Farming  All GHGs   \n",
              "\n",
              "                                Unit  \\\n",
              "0  kg CO2e/2022 USD, purchaser price   \n",
              "1  kg CO2e/2022 USD, purchaser price   \n",
              "2  kg CO2e/2022 USD, purchaser price   \n",
              "3  kg CO2e/2022 USD, purchaser price   \n",
              "4  kg CO2e/2022 USD, purchaser price   \n",
              "\n",
              "   Supply Chain Emission Factors without Margins  \\\n",
              "0                                          0.488   \n",
              "1                                          0.488   \n",
              "2                                          0.809   \n",
              "3                                          0.809   \n",
              "4                                          0.809   \n",
              "\n",
              "   Margins of Supply Chain Emission Factors  \\\n",
              "0                                     0.044   \n",
              "1                                     0.044   \n",
              "2                                     0.040   \n",
              "3                                     0.040   \n",
              "4                                     0.040   \n",
              "\n",
              "   Supply Chain Emission Factors with Margins Reference USEEIO Code  \n",
              "0                                       0.532                1111A0  \n",
              "1                                       0.532                1111A0  \n",
              "2                                       0.848                1111B0  \n",
              "3                                       0.848                1111B0  \n",
              "4                                       0.848                1111B0  "
            ],
            "text/html": [
              "\n",
              "  <div id=\"df-5c106e3a-ffd4-4860-9da8-2550843be9bd\" class=\"colab-df-container\">\n",
              "    <div>\n",
              "<style scoped>\n",
              "    .dataframe tbody tr th:only-of-type {\n",
              "        vertical-align: middle;\n",
              "    }\n",
              "\n",
              "    .dataframe tbody tr th {\n",
              "        vertical-align: top;\n",
              "    }\n",
              "\n",
              "    .dataframe thead th {\n",
              "        text-align: right;\n",
              "    }\n",
              "</style>\n",
              "<table border=\"1\" class=\"dataframe\">\n",
              "  <thead>\n",
              "    <tr style=\"text-align: right;\">\n",
              "      <th></th>\n",
              "      <th>2017 NAICS Code</th>\n",
              "      <th>2017 NAICS Title</th>\n",
              "      <th>GHG</th>\n",
              "      <th>Unit</th>\n",
              "      <th>Supply Chain Emission Factors without Margins</th>\n",
              "      <th>Margins of Supply Chain Emission Factors</th>\n",
              "      <th>Supply Chain Emission Factors with Margins</th>\n",
              "      <th>Reference USEEIO Code</th>\n",
              "    </tr>\n",
              "  </thead>\n",
              "  <tbody>\n",
              "    <tr>\n",
              "      <th>0</th>\n",
              "      <td>111110</td>\n",
              "      <td>Soybean Farming</td>\n",
              "      <td>All GHGs</td>\n",
              "      <td>kg CO2e/2022 USD, purchaser price</td>\n",
              "      <td>0.488</td>\n",
              "      <td>0.044</td>\n",
              "      <td>0.532</td>\n",
              "      <td>1111A0</td>\n",
              "    </tr>\n",
              "    <tr>\n",
              "      <th>1</th>\n",
              "      <td>111120</td>\n",
              "      <td>Oilseed (except Soybean) Farming</td>\n",
              "      <td>All GHGs</td>\n",
              "      <td>kg CO2e/2022 USD, purchaser price</td>\n",
              "      <td>0.488</td>\n",
              "      <td>0.044</td>\n",
              "      <td>0.532</td>\n",
              "      <td>1111A0</td>\n",
              "    </tr>\n",
              "    <tr>\n",
              "      <th>2</th>\n",
              "      <td>111130</td>\n",
              "      <td>Dry Pea and Bean Farming</td>\n",
              "      <td>All GHGs</td>\n",
              "      <td>kg CO2e/2022 USD, purchaser price</td>\n",
              "      <td>0.809</td>\n",
              "      <td>0.040</td>\n",
              "      <td>0.848</td>\n",
              "      <td>1111B0</td>\n",
              "    </tr>\n",
              "    <tr>\n",
              "      <th>3</th>\n",
              "      <td>111140</td>\n",
              "      <td>Wheat Farming</td>\n",
              "      <td>All GHGs</td>\n",
              "      <td>kg CO2e/2022 USD, purchaser price</td>\n",
              "      <td>0.809</td>\n",
              "      <td>0.040</td>\n",
              "      <td>0.848</td>\n",
              "      <td>1111B0</td>\n",
              "    </tr>\n",
              "    <tr>\n",
              "      <th>4</th>\n",
              "      <td>111150</td>\n",
              "      <td>Corn Farming</td>\n",
              "      <td>All GHGs</td>\n",
              "      <td>kg CO2e/2022 USD, purchaser price</td>\n",
              "      <td>0.809</td>\n",
              "      <td>0.040</td>\n",
              "      <td>0.848</td>\n",
              "      <td>1111B0</td>\n",
              "    </tr>\n",
              "  </tbody>\n",
              "</table>\n",
              "</div>\n",
              "    <div class=\"colab-df-buttons\">\n",
              "\n",
              "  <div class=\"colab-df-container\">\n",
              "    <button class=\"colab-df-convert\" onclick=\"convertToInteractive('df-5c106e3a-ffd4-4860-9da8-2550843be9bd')\"\n",
              "            title=\"Convert this dataframe to an interactive table.\"\n",
              "            style=\"display:none;\">\n",
              "\n",
              "  <svg xmlns=\"http://www.w3.org/2000/svg\" height=\"24px\" viewBox=\"0 -960 960 960\">\n",
              "    <path d=\"M120-120v-720h720v720H120Zm60-500h600v-160H180v160Zm220 220h160v-160H400v160Zm0 220h160v-160H400v160ZM180-400h160v-160H180v160Zm440 0h160v-160H620v160ZM180-180h160v-160H180v160Zm440 0h160v-160H620v160Z\"/>\n",
              "  </svg>\n",
              "    </button>\n",
              "\n",
              "  <style>\n",
              "    .colab-df-container {\n",
              "      display:flex;\n",
              "      gap: 12px;\n",
              "    }\n",
              "\n",
              "    .colab-df-convert {\n",
              "      background-color: #E8F0FE;\n",
              "      border: none;\n",
              "      border-radius: 50%;\n",
              "      cursor: pointer;\n",
              "      display: none;\n",
              "      fill: #1967D2;\n",
              "      height: 32px;\n",
              "      padding: 0 0 0 0;\n",
              "      width: 32px;\n",
              "    }\n",
              "\n",
              "    .colab-df-convert:hover {\n",
              "      background-color: #E2EBFA;\n",
              "      box-shadow: 0px 1px 2px rgba(60, 64, 67, 0.3), 0px 1px 3px 1px rgba(60, 64, 67, 0.15);\n",
              "      fill: #174EA6;\n",
              "    }\n",
              "\n",
              "    .colab-df-buttons div {\n",
              "      margin-bottom: 4px;\n",
              "    }\n",
              "\n",
              "    [theme=dark] .colab-df-convert {\n",
              "      background-color: #3B4455;\n",
              "      fill: #D2E3FC;\n",
              "    }\n",
              "\n",
              "    [theme=dark] .colab-df-convert:hover {\n",
              "      background-color: #434B5C;\n",
              "      box-shadow: 0px 1px 3px 1px rgba(0, 0, 0, 0.15);\n",
              "      filter: drop-shadow(0px 1px 2px rgba(0, 0, 0, 0.3));\n",
              "      fill: #FFFFFF;\n",
              "    }\n",
              "  </style>\n",
              "\n",
              "    <script>\n",
              "      const buttonEl =\n",
              "        document.querySelector('#df-5c106e3a-ffd4-4860-9da8-2550843be9bd button.colab-df-convert');\n",
              "      buttonEl.style.display =\n",
              "        google.colab.kernel.accessAllowed ? 'block' : 'none';\n",
              "\n",
              "      async function convertToInteractive(key) {\n",
              "        const element = document.querySelector('#df-5c106e3a-ffd4-4860-9da8-2550843be9bd');\n",
              "        const dataTable =\n",
              "          await google.colab.kernel.invokeFunction('convertToInteractive',\n",
              "                                                    [key], {});\n",
              "        if (!dataTable) return;\n",
              "\n",
              "        const docLinkHtml = 'Like what you see? Visit the ' +\n",
              "          '<a target=\"_blank\" href=https://colab.research.google.com/notebooks/data_table.ipynb>data table notebook</a>'\n",
              "          + ' to learn more about interactive tables.';\n",
              "        element.innerHTML = '';\n",
              "        dataTable['output_type'] = 'display_data';\n",
              "        await google.colab.output.renderOutput(dataTable, element);\n",
              "        const docLink = document.createElement('div');\n",
              "        docLink.innerHTML = docLinkHtml;\n",
              "        element.appendChild(docLink);\n",
              "      }\n",
              "    </script>\n",
              "  </div>\n",
              "\n",
              "\n",
              "<div id=\"df-922da514-ec2c-4180-aa15-7249c6c6a292\">\n",
              "  <button class=\"colab-df-quickchart\" onclick=\"quickchart('df-922da514-ec2c-4180-aa15-7249c6c6a292')\"\n",
              "            title=\"Suggest charts\"\n",
              "            style=\"display:none;\">\n",
              "\n",
              "<svg xmlns=\"http://www.w3.org/2000/svg\" height=\"24px\"viewBox=\"0 0 24 24\"\n",
              "     width=\"24px\">\n",
              "    <g>\n",
              "        <path d=\"M19 3H5c-1.1 0-2 .9-2 2v14c0 1.1.9 2 2 2h14c1.1 0 2-.9 2-2V5c0-1.1-.9-2-2-2zM9 17H7v-7h2v7zm4 0h-2V7h2v10zm4 0h-2v-4h2v4z\"/>\n",
              "    </g>\n",
              "</svg>\n",
              "  </button>\n",
              "\n",
              "<style>\n",
              "  .colab-df-quickchart {\n",
              "      --bg-color: #E8F0FE;\n",
              "      --fill-color: #1967D2;\n",
              "      --hover-bg-color: #E2EBFA;\n",
              "      --hover-fill-color: #174EA6;\n",
              "      --disabled-fill-color: #AAA;\n",
              "      --disabled-bg-color: #DDD;\n",
              "  }\n",
              "\n",
              "  [theme=dark] .colab-df-quickchart {\n",
              "      --bg-color: #3B4455;\n",
              "      --fill-color: #D2E3FC;\n",
              "      --hover-bg-color: #434B5C;\n",
              "      --hover-fill-color: #FFFFFF;\n",
              "      --disabled-bg-color: #3B4455;\n",
              "      --disabled-fill-color: #666;\n",
              "  }\n",
              "\n",
              "  .colab-df-quickchart {\n",
              "    background-color: var(--bg-color);\n",
              "    border: none;\n",
              "    border-radius: 50%;\n",
              "    cursor: pointer;\n",
              "    display: none;\n",
              "    fill: var(--fill-color);\n",
              "    height: 32px;\n",
              "    padding: 0;\n",
              "    width: 32px;\n",
              "  }\n",
              "\n",
              "  .colab-df-quickchart:hover {\n",
              "    background-color: var(--hover-bg-color);\n",
              "    box-shadow: 0 1px 2px rgba(60, 64, 67, 0.3), 0 1px 3px 1px rgba(60, 64, 67, 0.15);\n",
              "    fill: var(--button-hover-fill-color);\n",
              "  }\n",
              "\n",
              "  .colab-df-quickchart-complete:disabled,\n",
              "  .colab-df-quickchart-complete:disabled:hover {\n",
              "    background-color: var(--disabled-bg-color);\n",
              "    fill: var(--disabled-fill-color);\n",
              "    box-shadow: none;\n",
              "  }\n",
              "\n",
              "  .colab-df-spinner {\n",
              "    border: 2px solid var(--fill-color);\n",
              "    border-color: transparent;\n",
              "    border-bottom-color: var(--fill-color);\n",
              "    animation:\n",
              "      spin 1s steps(1) infinite;\n",
              "  }\n",
              "\n",
              "  @keyframes spin {\n",
              "    0% {\n",
              "      border-color: transparent;\n",
              "      border-bottom-color: var(--fill-color);\n",
              "      border-left-color: var(--fill-color);\n",
              "    }\n",
              "    20% {\n",
              "      border-color: transparent;\n",
              "      border-left-color: var(--fill-color);\n",
              "      border-top-color: var(--fill-color);\n",
              "    }\n",
              "    30% {\n",
              "      border-color: transparent;\n",
              "      border-left-color: var(--fill-color);\n",
              "      border-top-color: var(--fill-color);\n",
              "      border-right-color: var(--fill-color);\n",
              "    }\n",
              "    40% {\n",
              "      border-color: transparent;\n",
              "      border-right-color: var(--fill-color);\n",
              "      border-top-color: var(--fill-color);\n",
              "    }\n",
              "    60% {\n",
              "      border-color: transparent;\n",
              "      border-right-color: var(--fill-color);\n",
              "    }\n",
              "    80% {\n",
              "      border-color: transparent;\n",
              "      border-right-color: var(--fill-color);\n",
              "      border-bottom-color: var(--fill-color);\n",
              "    }\n",
              "    90% {\n",
              "      border-color: transparent;\n",
              "      border-bottom-color: var(--fill-color);\n",
              "    }\n",
              "  }\n",
              "</style>\n",
              "\n",
              "  <script>\n",
              "    async function quickchart(key) {\n",
              "      const quickchartButtonEl =\n",
              "        document.querySelector('#' + key + ' button');\n",
              "      quickchartButtonEl.disabled = true;  // To prevent multiple clicks.\n",
              "      quickchartButtonEl.classList.add('colab-df-spinner');\n",
              "      try {\n",
              "        const charts = await google.colab.kernel.invokeFunction(\n",
              "            'suggestCharts', [key], {});\n",
              "      } catch (error) {\n",
              "        console.error('Error during call to suggestCharts:', error);\n",
              "      }\n",
              "      quickchartButtonEl.classList.remove('colab-df-spinner');\n",
              "      quickchartButtonEl.classList.add('colab-df-quickchart-complete');\n",
              "    }\n",
              "    (() => {\n",
              "      let quickchartButtonEl =\n",
              "        document.querySelector('#df-922da514-ec2c-4180-aa15-7249c6c6a292 button');\n",
              "      quickchartButtonEl.style.display =\n",
              "        google.colab.kernel.accessAllowed ? 'block' : 'none';\n",
              "    })();\n",
              "  </script>\n",
              "</div>\n",
              "\n",
              "    </div>\n",
              "  </div>\n"
            ],
            "application/vnd.google.colaboratory.intrinsic+json": {
              "type": "dataframe",
              "variable_name": "df",
              "summary": "{\n  \"name\": \"df\",\n  \"rows\": 1016,\n  \"fields\": [\n    {\n      \"column\": \"2017 NAICS Code\",\n      \"properties\": {\n        \"dtype\": \"number\",\n        \"std\": 164942,\n        \"min\": 111110,\n        \"max\": 813990,\n        \"num_unique_values\": 1016,\n        \"samples\": [\n          531120,\n          423920,\n          321920\n        ],\n        \"semantic_type\": \"\",\n        \"description\": \"\"\n      }\n    },\n    {\n      \"column\": \"2017 NAICS Title\",\n      \"properties\": {\n        \"dtype\": \"string\",\n        \"num_unique_values\": 1016,\n        \"samples\": [\n          \"Lessors of Nonresidential Buildings (excpet Miniwarehouses)\",\n          \"Toy and Hobby Goods and Supplies Merchant Wholesalers\",\n          \"Wood Container and Pallet Manufacturing\"\n        ],\n        \"semantic_type\": \"\",\n        \"description\": \"\"\n      }\n    },\n    {\n      \"column\": \"GHG\",\n      \"properties\": {\n        \"dtype\": \"category\",\n        \"num_unique_values\": 1,\n        \"samples\": [\n          \"All GHGs\"\n        ],\n        \"semantic_type\": \"\",\n        \"description\": \"\"\n      }\n    },\n    {\n      \"column\": \"Unit\",\n      \"properties\": {\n        \"dtype\": \"category\",\n        \"num_unique_values\": 1,\n        \"samples\": [\n          \"kg CO2e/2022 USD, purchaser price\"\n        ],\n        \"semantic_type\": \"\",\n        \"description\": \"\"\n      }\n    },\n    {\n      \"column\": \"Supply Chain Emission Factors without Margins\",\n      \"properties\": {\n        \"dtype\": \"number\",\n        \"std\": 0.314768257806796,\n        \"min\": 0.026,\n        \"max\": 3.846,\n        \"num_unique_values\": 274,\n        \"samples\": [\n          0.202\n        ],\n        \"semantic_type\": \"\",\n        \"description\": \"\"\n      }\n    },\n    {\n      \"column\": \"Margins of Supply Chain Emission Factors\",\n      \"properties\": {\n        \"dtype\": \"number\",\n        \"std\": 0.023367125941466404,\n        \"min\": 0.0,\n        \"max\": 0.125,\n        \"num_unique_values\": 69,\n        \"samples\": [\n          0.034\n        ],\n        \"semantic_type\": \"\",\n        \"description\": \"\"\n      }\n    },\n    {\n      \"column\": \"Supply Chain Emission Factors with Margins\",\n      \"properties\": {\n        \"dtype\": \"number\",\n        \"std\": 0.32141663546099253,\n        \"min\": 0.029,\n        \"max\": 3.924,\n        \"num_unique_values\": 281,\n        \"samples\": [\n          0.769\n        ],\n        \"semantic_type\": \"\",\n        \"description\": \"\"\n      }\n    },\n    {\n      \"column\": \"Reference USEEIO Code\",\n      \"properties\": {\n        \"dtype\": \"category\",\n        \"num_unique_values\": 386,\n        \"samples\": [\n          \"541940\"\n        ],\n        \"semantic_type\": \"\",\n        \"description\": \"\"\n      }\n    }\n  ]\n}"
            }
          },
          "metadata": {},
          "execution_count": 3
        }
      ]
    },
    {
      "cell_type": "code",
      "source": [
        "df.shape"
      ],
      "metadata": {
        "colab": {
          "base_uri": "https://localhost:8080/"
        },
        "id": "azFvdJ6FzxfV",
        "outputId": "5fb15eb3-4c79-4314-a630-ed3cac693670"
      },
      "execution_count": null,
      "outputs": [
        {
          "output_type": "execute_result",
          "data": {
            "text/plain": [
              "(1016, 8)"
            ]
          },
          "metadata": {},
          "execution_count": 4
        }
      ]
    },
    {
      "cell_type": "code",
      "source": [
        "df.info()"
      ],
      "metadata": {
        "colab": {
          "base_uri": "https://localhost:8080/"
        },
        "id": "IZ0jJ3TD062r",
        "outputId": "cdef9564-3cb8-403e-c168-007eb661d3ca"
      },
      "execution_count": null,
      "outputs": [
        {
          "output_type": "stream",
          "name": "stdout",
          "text": [
            "<class 'pandas.core.frame.DataFrame'>\n",
            "RangeIndex: 1016 entries, 0 to 1015\n",
            "Data columns (total 8 columns):\n",
            " #   Column                                         Non-Null Count  Dtype  \n",
            "---  ------                                         --------------  -----  \n",
            " 0   2017 NAICS Code                                1016 non-null   int64  \n",
            " 1   2017 NAICS Title                               1016 non-null   object \n",
            " 2   GHG                                            1016 non-null   object \n",
            " 3   Unit                                           1016 non-null   object \n",
            " 4   Supply Chain Emission Factors without Margins  1016 non-null   float64\n",
            " 5   Margins of Supply Chain Emission Factors       1016 non-null   float64\n",
            " 6   Supply Chain Emission Factors with Margins     1016 non-null   float64\n",
            " 7   Reference USEEIO Code                          1016 non-null   object \n",
            "dtypes: float64(3), int64(1), object(4)\n",
            "memory usage: 63.6+ KB\n"
          ]
        }
      ]
    },
    {
      "cell_type": "code",
      "source": [
        "col = 'Supply Chain Emission Factors without Margins'\n",
        "df[col].value_counts()"
      ],
      "metadata": {
        "colab": {
          "base_uri": "https://localhost:8080/",
          "height": 489
        },
        "id": "Wtho_LCG1Jyd",
        "outputId": "54e795fa-41a3-4793-ca19-06058889468e"
      },
      "execution_count": null,
      "outputs": [
        {
          "output_type": "execute_result",
          "data": {
            "text/plain": [
              "Supply Chain Emission Factors without Margins\n",
              "0.111    36\n",
              "0.108    31\n",
              "0.221    21\n",
              "0.144    20\n",
              "0.103    17\n",
              "         ..\n",
              "0.265     1\n",
              "0.046     1\n",
              "0.311     1\n",
              "0.120     1\n",
              "0.347     1\n",
              "Name: count, Length: 274, dtype: int64"
            ],
            "text/html": [
              "<div>\n",
              "<style scoped>\n",
              "    .dataframe tbody tr th:only-of-type {\n",
              "        vertical-align: middle;\n",
              "    }\n",
              "\n",
              "    .dataframe tbody tr th {\n",
              "        vertical-align: top;\n",
              "    }\n",
              "\n",
              "    .dataframe thead th {\n",
              "        text-align: right;\n",
              "    }\n",
              "</style>\n",
              "<table border=\"1\" class=\"dataframe\">\n",
              "  <thead>\n",
              "    <tr style=\"text-align: right;\">\n",
              "      <th></th>\n",
              "      <th>count</th>\n",
              "    </tr>\n",
              "    <tr>\n",
              "      <th>Supply Chain Emission Factors without Margins</th>\n",
              "      <th></th>\n",
              "    </tr>\n",
              "  </thead>\n",
              "  <tbody>\n",
              "    <tr>\n",
              "      <th>0.111</th>\n",
              "      <td>36</td>\n",
              "    </tr>\n",
              "    <tr>\n",
              "      <th>0.108</th>\n",
              "      <td>31</td>\n",
              "    </tr>\n",
              "    <tr>\n",
              "      <th>0.221</th>\n",
              "      <td>21</td>\n",
              "    </tr>\n",
              "    <tr>\n",
              "      <th>0.144</th>\n",
              "      <td>20</td>\n",
              "    </tr>\n",
              "    <tr>\n",
              "      <th>0.103</th>\n",
              "      <td>17</td>\n",
              "    </tr>\n",
              "    <tr>\n",
              "      <th>...</th>\n",
              "      <td>...</td>\n",
              "    </tr>\n",
              "    <tr>\n",
              "      <th>0.265</th>\n",
              "      <td>1</td>\n",
              "    </tr>\n",
              "    <tr>\n",
              "      <th>0.046</th>\n",
              "      <td>1</td>\n",
              "    </tr>\n",
              "    <tr>\n",
              "      <th>0.311</th>\n",
              "      <td>1</td>\n",
              "    </tr>\n",
              "    <tr>\n",
              "      <th>0.120</th>\n",
              "      <td>1</td>\n",
              "    </tr>\n",
              "    <tr>\n",
              "      <th>0.347</th>\n",
              "      <td>1</td>\n",
              "    </tr>\n",
              "  </tbody>\n",
              "</table>\n",
              "<p>274 rows × 1 columns</p>\n",
              "</div><br><label><b>dtype:</b> int64</label>"
            ]
          },
          "metadata": {},
          "execution_count": 6
        }
      ]
    },
    {
      "cell_type": "code",
      "source": [
        "df[col].mode()"
      ],
      "metadata": {
        "colab": {
          "base_uri": "https://localhost:8080/",
          "height": 115
        },
        "id": "dCp0AwYV1xMA",
        "outputId": "cb9b7a3a-098a-4b16-99bb-f1694d717289"
      },
      "execution_count": null,
      "outputs": [
        {
          "output_type": "execute_result",
          "data": {
            "text/plain": [
              "0    0.111\n",
              "Name: Supply Chain Emission Factors without Margins, dtype: float64"
            ],
            "text/html": [
              "<div>\n",
              "<style scoped>\n",
              "    .dataframe tbody tr th:only-of-type {\n",
              "        vertical-align: middle;\n",
              "    }\n",
              "\n",
              "    .dataframe tbody tr th {\n",
              "        vertical-align: top;\n",
              "    }\n",
              "\n",
              "    .dataframe thead th {\n",
              "        text-align: right;\n",
              "    }\n",
              "</style>\n",
              "<table border=\"1\" class=\"dataframe\">\n",
              "  <thead>\n",
              "    <tr style=\"text-align: right;\">\n",
              "      <th></th>\n",
              "      <th>Supply Chain Emission Factors without Margins</th>\n",
              "    </tr>\n",
              "  </thead>\n",
              "  <tbody>\n",
              "    <tr>\n",
              "      <th>0</th>\n",
              "      <td>0.111</td>\n",
              "    </tr>\n",
              "  </tbody>\n",
              "</table>\n",
              "</div><br><label><b>dtype:</b> float64</label>"
            ]
          },
          "metadata": {},
          "execution_count": 7
        }
      ]
    },
    {
      "cell_type": "code",
      "source": [
        "min = df[col].min()\n",
        "max = df[col].max()\n",
        "print(min, max)"
      ],
      "metadata": {
        "colab": {
          "base_uri": "https://localhost:8080/"
        },
        "id": "lysvyOFY18tC",
        "outputId": "6c92d6a9-1f8c-4ea3-9918-58359dfe092d"
      },
      "execution_count": null,
      "outputs": [
        {
          "output_type": "stream",
          "name": "stdout",
          "text": [
            "0.026 3.846\n"
          ]
        }
      ]
    },
    {
      "cell_type": "code",
      "source": [
        "mean = df[col].mean()\n",
        "median = df[col].median()\n",
        "mode = df[col].mode()\n",
        "print(mean, median, mode)"
      ],
      "metadata": {
        "colab": {
          "base_uri": "https://localhost:8080/"
        },
        "id": "hFt1bqVi2mIp",
        "outputId": "c0b3e97f-173d-4c34-84ba-1e454a561d84"
      },
      "execution_count": null,
      "outputs": [
        {
          "output_type": "stream",
          "name": "stdout",
          "text": [
            "0.264994094488189 0.159 0    0.111\n",
            "Name: Supply Chain Emission Factors without Margins, dtype: float64\n"
          ]
        }
      ]
    },
    {
      "cell_type": "code",
      "source": [
        "range_value = max - min\n",
        "\n",
        "print(range_value)"
      ],
      "metadata": {
        "colab": {
          "base_uri": "https://localhost:8080/"
        },
        "id": "Kr_3YKpN266u",
        "outputId": "7e721706-a2b5-4639-a152-ff2ebb93bf80"
      },
      "execution_count": null,
      "outputs": [
        {
          "output_type": "stream",
          "name": "stdout",
          "text": [
            "3.8200000000000003\n"
          ]
        }
      ]
    },
    {
      "cell_type": "code",
      "source": [
        "midrange = (min + max) / 2\n",
        "print(midrange)"
      ],
      "metadata": {
        "colab": {
          "base_uri": "https://localhost:8080/"
        },
        "id": "r8isNOd-3Ay_",
        "outputId": "a121b350-992e-4f8c-9cad-15b763195da1"
      },
      "execution_count": null,
      "outputs": [
        {
          "output_type": "stream",
          "name": "stdout",
          "text": [
            "1.936\n"
          ]
        }
      ]
    },
    {
      "cell_type": "code",
      "source": [
        "q1 = df[col].quantile(0.25)\n",
        "q2 = df[col].quantile(0.50)\n",
        "q3 = df[col].quantile(0.75)\n",
        "print(q1, q2, q3)"
      ],
      "metadata": {
        "colab": {
          "base_uri": "https://localhost:8080/"
        },
        "id": "lVjqtdGh3bWW",
        "outputId": "12090754-d576-45d2-d8dc-5878d5a3f721"
      },
      "execution_count": null,
      "outputs": [
        {
          "output_type": "stream",
          "name": "stdout",
          "text": [
            "0.103 0.159 0.30225\n"
          ]
        }
      ]
    },
    {
      "cell_type": "code",
      "source": [
        "IQR = q3 - q1\n",
        "print(IQR)"
      ],
      "metadata": {
        "colab": {
          "base_uri": "https://localhost:8080/"
        },
        "id": "QxgLwZ1A3mpx",
        "outputId": "811e806d-9f7f-458b-d1a7-499677ef888f"
      },
      "execution_count": null,
      "outputs": [
        {
          "output_type": "stream",
          "name": "stdout",
          "text": [
            "0.19925000000000004\n"
          ]
        }
      ]
    },
    {
      "cell_type": "code",
      "source": [
        "variance = df[col].var()\n",
        "std_dev = df[col].std()\n",
        "print(variance, std_dev)"
      ],
      "metadata": {
        "colab": {
          "base_uri": "https://localhost:8080/"
        },
        "id": "zNscE9Mn3p61",
        "outputId": "b06cd4eb-f8cf-4b3f-cab8-b1467f539c21"
      },
      "execution_count": null,
      "outputs": [
        {
          "output_type": "stream",
          "name": "stdout",
          "text": [
            "0.09907905612272559 0.314768257806796\n"
          ]
        }
      ]
    },
    {
      "cell_type": "code",
      "source": [
        "lower_bound = q1 - 1.5 * IQR\n",
        "upper_bound = q3 + 1.5 * IQR\n",
        "\n",
        "outliers = df[(df[col] < lower_bound) | (df[col] > upper_bound)]\n",
        "\n",
        "print(outliers)"
      ],
      "metadata": {
        "colab": {
          "base_uri": "https://localhost:8080/"
        },
        "id": "fnWUVgjv3teH",
        "outputId": "7b42e13e-75d8-4b30-cdac-a332fc7f236f"
      },
      "execution_count": null,
      "outputs": [
        {
          "output_type": "stream",
          "name": "stdout",
          "text": [
            "     2017 NAICS Code                                   2017 NAICS Title  \\\n",
            "2             111130                           Dry Pea and Bean Farming   \n",
            "3             111140                                      Wheat Farming   \n",
            "4             111150                                       Corn Farming   \n",
            "5             111160                                       Rice Farming   \n",
            "6             111191              Oilseed and Grain Combination Farming   \n",
            "..               ...                                                ...   \n",
            "867           562219    Other Nonhazardous Waste Treatment and Disposal   \n",
            "868           562910                               Remediation Services   \n",
            "869           562920                      Materials Recovery Facilities   \n",
            "870           562991                   Septic Tank and Related Services   \n",
            "871           562998  All Other Miscellaneous Waste Management Services   \n",
            "\n",
            "          GHG                               Unit  \\\n",
            "2    All GHGs  kg CO2e/2022 USD, purchaser price   \n",
            "3    All GHGs  kg CO2e/2022 USD, purchaser price   \n",
            "4    All GHGs  kg CO2e/2022 USD, purchaser price   \n",
            "5    All GHGs  kg CO2e/2022 USD, purchaser price   \n",
            "6    All GHGs  kg CO2e/2022 USD, purchaser price   \n",
            "..        ...                                ...   \n",
            "867  All GHGs  kg CO2e/2022 USD, purchaser price   \n",
            "868  All GHGs  kg CO2e/2022 USD, purchaser price   \n",
            "869  All GHGs  kg CO2e/2022 USD, purchaser price   \n",
            "870  All GHGs  kg CO2e/2022 USD, purchaser price   \n",
            "871  All GHGs  kg CO2e/2022 USD, purchaser price   \n",
            "\n",
            "     Supply Chain Emission Factors without Margins  \\\n",
            "2                                            0.809   \n",
            "3                                            0.809   \n",
            "4                                            0.809   \n",
            "5                                            0.809   \n",
            "6                                            0.809   \n",
            "..                                             ...   \n",
            "867                                          0.988   \n",
            "868                                          0.988   \n",
            "869                                          0.988   \n",
            "870                                          0.988   \n",
            "871                                          0.988   \n",
            "\n",
            "     Margins of Supply Chain Emission Factors  \\\n",
            "2                                        0.04   \n",
            "3                                        0.04   \n",
            "4                                        0.04   \n",
            "5                                        0.04   \n",
            "6                                        0.04   \n",
            "..                                        ...   \n",
            "867                                      0.00   \n",
            "868                                      0.00   \n",
            "869                                      0.00   \n",
            "870                                      0.00   \n",
            "871                                      0.00   \n",
            "\n",
            "     Supply Chain Emission Factors with Margins Reference USEEIO Code  \n",
            "2                                         0.848                1111B0  \n",
            "3                                         0.848                1111B0  \n",
            "4                                         0.848                1111B0  \n",
            "5                                         0.848                1111B0  \n",
            "6                                         0.848                1111B0  \n",
            "..                                          ...                   ...  \n",
            "867                                       0.988                562000  \n",
            "868                                       0.988                562000  \n",
            "869                                       0.988                562000  \n",
            "870                                       0.988                562000  \n",
            "871                                       0.988                562000  \n",
            "\n",
            "[93 rows x 8 columns]\n"
          ]
        }
      ]
    },
    {
      "cell_type": "markdown",
      "source": [
        "# Histogram with Outliers\n"
      ],
      "metadata": {
        "id": "HQBCvG7b4MZe"
      }
    },
    {
      "cell_type": "code",
      "source": [
        "df[col].hist()"
      ],
      "metadata": {
        "colab": {
          "base_uri": "https://localhost:8080/",
          "height": 448
        },
        "id": "XuaZq5wT36-w",
        "outputId": "5a42febf-edea-4699-e6ce-f3a8c7d8d165"
      },
      "execution_count": null,
      "outputs": [
        {
          "output_type": "execute_result",
          "data": {
            "text/plain": [
              "<Axes: >"
            ]
          },
          "metadata": {},
          "execution_count": 16
        },
        {
          "output_type": "display_data",
          "data": {
            "text/plain": [
              "<Figure size 640x480 with 1 Axes>"
            ],
            "image/png": "[encoded data removed]"
          },
          "metadata": {}
        }
      ]
    },
    {
      "cell_type": "code",
      "source": [
        "df_without_outliers = df[(df[col] >= lower_bound) & (df[col] <= upper_bound)]\n",
        "df_without_outliers[col].hist()"
      ],
      "metadata": {
        "colab": {
          "base_uri": "https://localhost:8080/",
          "height": 449
        },
        "id": "s9RyiT5c4Img",
        "outputId": "0d242cef-0f0d-40a9-b721-e6e1fa521eff"
      },
      "execution_count": null,
      "outputs": [
        {
          "output_type": "execute_result",
          "data": {
            "text/plain": [
              "<Axes: >"
            ]
          },
          "metadata": {},
          "execution_count": 17
        },
        {
          "output_type": "display_data",
          "data": {
            "text/plain": [
              "<Figure size 640x480 with 1 Axes>"
            ],
            "image/png": "[encoded data removed]"
          },
          "metadata": {}
        }
      ]
    },
    {
      "cell_type": "code",
      "source": [
        "df['Supply Chain Emission Factors without Margins'].plot.density()"
      ],
      "metadata": {
        "colab": {
          "base_uri": "https://localhost:8080/",
          "height": 448
        },
        "id": "cKAUfcHH4YtE",
        "outputId": "d8d9a75d-1b0f-44df-8e5b-8cc6252e41f2"
      },
      "execution_count": null,
      "outputs": [
        {
          "output_type": "execute_result",
          "data": {
            "text/plain": [
              "<Axes: ylabel='Density'>"
            ]
          },
          "metadata": {},
          "execution_count": 18
        },
        {
          "output_type": "display_data",
          "data": {
            "text/plain": [
              "<Figure size 640x480 with 1 Axes>"
            ],
            "image/png": "[encoded data removed]"
          },
          "metadata": {}
        }
      ]
    },
    {
      "cell_type": "code",
      "source": [
        "df_without_outliers['Supply Chain Emission Factors without Margins'].plot.density()"
      ],
      "metadata": {
        "colab": {
          "base_uri": "https://localhost:8080/",
          "height": 448
        },
        "id": "rQyi9Yj74z_B",
        "outputId": "8bdae15b-bef0-44bb-fc04-4b9f6efd81e1"
      },
      "execution_count": null,
      "outputs": [
        {
          "output_type": "execute_result",
          "data": {
            "text/plain": [
              "<Axes: ylabel='Density'>"
            ]
          },
          "metadata": {},
          "execution_count": 19
        },
        {
          "output_type": "display_data",
          "data": {
            "text/plain": [
              "<Figure size 640x480 with 1 Axes>"
            ],
            "image/png": "[encoded data removed]"
          },
          "metadata": {}
        }
      ]
    },
    {
      "cell_type": "markdown",
      "source": [
        "# Interpretations of SEF(Supply Chain Emission Factors without Margins)\n",
        "\n",
        "This represents the emissions released by a product's production and supply that excludes emissions tied to markups, retail, distribution, and other added costs beyond the direct supply chain."
      ],
      "metadata": {
        "id": "8F7w1IS45oej"
      }
    },
    {
      "cell_type": "markdown",
      "source": [
        "# Possible Further Interpretations\n",
        "\n",
        "This data can be further analyzed to identify solely supply chain production related emissions, or certain products that emit a disproportionate amount of GHGs (Green House Gasses) during parts of the supply chain unrelated to production."
      ],
      "metadata": {
        "id": "3TkQfyVk6fpg"
      }
    },
    {
      "cell_type": "code",
      "source": [
        "high_outliers = df[df[col] > upper_bound]\n",
        "\n",
        "top_10_outliers = high_outliers.sort_values(by=col, ascending=False).head(10)\n",
        "top_10_outliers['2017 NAICS Title']"
      ],
      "metadata": {
        "colab": {
          "base_uri": "https://localhost:8080/",
          "height": 397
        },
        "id": "4cxPgfYG7yd9",
        "outputId": "0db8c1c6-0dbf-44e5-8544-9cb26c89c81a"
      },
      "execution_count": null,
      "outputs": [
        {
          "output_type": "execute_result",
          "data": {
            "text/plain": [
              "285                                 Cement Manufacturing\n",
              "33              Dual-Purpose Cattle Ranching and Farming\n",
              "31                                       Cattle Feedlots\n",
              "30                      Beef Cattle Ranching and Farming\n",
              "32                      Dairy Cattle and Milk Production\n",
              "655    Pipeline Transportation of Refined Petroleum P...\n",
              "653                 Pipeline Transportation of Crude Oil\n",
              "656                    All Other Pipeline Transportation\n",
              "654               Pipeline Transportation of Natural Gas\n",
              "291                         Gypsum Product Manufacturing\n",
              "Name: 2017 NAICS Title, dtype: object"
            ],
            "text/html": [
              "<div>\n",
              "<style scoped>\n",
              "    .dataframe tbody tr th:only-of-type {\n",
              "        vertical-align: middle;\n",
              "    }\n",
              "\n",
              "    .dataframe tbody tr th {\n",
              "        vertical-align: top;\n",
              "    }\n",
              "\n",
              "    .dataframe thead th {\n",
              "        text-align: right;\n",
              "    }\n",
              "</style>\n",
              "<table border=\"1\" class=\"dataframe\">\n",
              "  <thead>\n",
              "    <tr style=\"text-align: right;\">\n",
              "      <th></th>\n",
              "      <th>2017 NAICS Title</th>\n",
              "    </tr>\n",
              "  </thead>\n",
              "  <tbody>\n",
              "    <tr>\n",
              "      <th>285</th>\n",
              "      <td>Cement Manufacturing</td>\n",
              "    </tr>\n",
              "    <tr>\n",
              "      <th>33</th>\n",
              "      <td>Dual-Purpose Cattle Ranching and Farming</td>\n",
              "    </tr>\n",
              "    <tr>\n",
              "      <th>31</th>\n",
              "      <td>Cattle Feedlots</td>\n",
              "    </tr>\n",
              "    <tr>\n",
              "      <th>30</th>\n",
              "      <td>Beef Cattle Ranching and Farming</td>\n",
              "    </tr>\n",
              "    <tr>\n",
              "      <th>32</th>\n",
              "      <td>Dairy Cattle and Milk Production</td>\n",
              "    </tr>\n",
              "    <tr>\n",
              "      <th>655</th>\n",
              "      <td>Pipeline Transportation of Refined Petroleum P...</td>\n",
              "    </tr>\n",
              "    <tr>\n",
              "      <th>653</th>\n",
              "      <td>Pipeline Transportation of Crude Oil</td>\n",
              "    </tr>\n",
              "    <tr>\n",
              "      <th>656</th>\n",
              "      <td>All Other Pipeline Transportation</td>\n",
              "    </tr>\n",
              "    <tr>\n",
              "      <th>654</th>\n",
              "      <td>Pipeline Transportation of Natural Gas</td>\n",
              "    </tr>\n",
              "    <tr>\n",
              "      <th>291</th>\n",
              "      <td>Gypsum Product Manufacturing</td>\n",
              "    </tr>\n",
              "  </tbody>\n",
              "</table>\n",
              "</div><br><label><b>dtype:</b> object</label>"
            ]
          },
          "metadata": {},
          "execution_count": 20
        }
      ]
    },
    {
      "cell_type": "code",
      "source": [
        "col2 = 'Supply Chain Emission Factors with Margins'\n",
        "high_outliers = df[df[col2] > upper_bound]\n",
        "\n",
        "top_10_outliers = high_outliers.sort_values(by=col2, ascending=False).head(10)\n",
        "top_10_outliers['2017 NAICS Title']"
      ],
      "metadata": {
        "colab": {
          "base_uri": "https://localhost:8080/",
          "height": 397
        },
        "id": "GaGYm0vk8FiN",
        "outputId": "c44c826d-eddc-4819-e2b0-bb07068ca23d"
      },
      "execution_count": 60,
      "outputs": [
        {
          "output_type": "execute_result",
          "data": {
            "text/plain": [
              "285                                 Cement Manufacturing\n",
              "33              Dual-Purpose Cattle Ranching and Farming\n",
              "31                                       Cattle Feedlots\n",
              "30                      Beef Cattle Ranching and Farming\n",
              "32                      Dairy Cattle and Milk Production\n",
              "291                         Gypsum Product Manufacturing\n",
              "290                                   Lime Manufacturing\n",
              "654               Pipeline Transportation of Natural Gas\n",
              "655    Pipeline Transportation of Refined Petroleum P...\n",
              "656                    All Other Pipeline Transportation\n",
              "Name: 2017 NAICS Title, dtype: object"
            ],
            "text/html": [
              "<div>\n",
              "<style scoped>\n",
              "    .dataframe tbody tr th:only-of-type {\n",
              "        vertical-align: middle;\n",
              "    }\n",
              "\n",
              "    .dataframe tbody tr th {\n",
              "        vertical-align: top;\n",
              "    }\n",
              "\n",
              "    .dataframe thead th {\n",
              "        text-align: right;\n",
              "    }\n",
              "</style>\n",
              "<table border=\"1\" class=\"dataframe\">\n",
              "  <thead>\n",
              "    <tr style=\"text-align: right;\">\n",
              "      <th></th>\n",
              "      <th>2017 NAICS Title</th>\n",
              "    </tr>\n",
              "  </thead>\n",
              "  <tbody>\n",
              "    <tr>\n",
              "      <th>285</th>\n",
              "      <td>Cement Manufacturing</td>\n",
              "    </tr>\n",
              "    <tr>\n",
              "      <th>33</th>\n",
              "      <td>Dual-Purpose Cattle Ranching and Farming</td>\n",
              "    </tr>\n",
              "    <tr>\n",
              "      <th>31</th>\n",
              "      <td>Cattle Feedlots</td>\n",
              "    </tr>\n",
              "    <tr>\n",
              "      <th>30</th>\n",
              "      <td>Beef Cattle Ranching and Farming</td>\n",
              "    </tr>\n",
              "    <tr>\n",
              "      <th>32</th>\n",
              "      <td>Dairy Cattle and Milk Production</td>\n",
              "    </tr>\n",
              "    <tr>\n",
              "      <th>291</th>\n",
              "      <td>Gypsum Product Manufacturing</td>\n",
              "    </tr>\n",
              "    <tr>\n",
              "      <th>290</th>\n",
              "      <td>Lime Manufacturing</td>\n",
              "    </tr>\n",
              "    <tr>\n",
              "      <th>654</th>\n",
              "      <td>Pipeline Transportation of Natural Gas</td>\n",
              "    </tr>\n",
              "    <tr>\n",
              "      <th>655</th>\n",
              "      <td>Pipeline Transportation of Refined Petroleum P...</td>\n",
              "    </tr>\n",
              "    <tr>\n",
              "      <th>656</th>\n",
              "      <td>All Other Pipeline Transportation</td>\n",
              "    </tr>\n",
              "  </tbody>\n",
              "</table>\n",
              "</div><br><label><b>dtype:</b> object</label>"
            ]
          },
          "metadata": {},
          "execution_count": 60
        }
      ]
    },
    {
      "cell_type": "markdown",
      "source": [
        "# Basic Conclusions\n",
        "\n",
        "It would seem that Cow related agriculture appears on the top 10 highest producers of GHGs quite often under various production titles suggesting that the Beef and Dairy industry are some of the highest producers of GHGs in the US."
      ],
      "metadata": {
        "id": "8Nc8mxV08eqa"
      }
    },
    {
      "cell_type": "markdown",
      "source": [
        "# Challenges and Reflections\n",
        "\n",
        "I found that interpreting the dataset quickly was difficult. Drawing conclusions quickly was also difficult from the data. This was mainly caused because I had to refresh my knowledge of PANDAS syntax"
      ],
      "metadata": {
        "id": "UBzjxx4D89Bp"
      }
    },
    {
      "cell_type": "markdown",
      "source": [
        "# __Extension of In Class Activity__\n",
        "\n",
        "This section will explore the further steps and conclusions that that were drawn with the __Possible Further Interpretations__ and __Basic Conclusions__ Sections. This will include exporation of the GHG emissions of the cattle industry as well as GHGs along the supply chain."
      ],
      "metadata": {
        "id": "7wQpsDRfUjoh"
      }
    },
    {
      "cell_type": "code",
      "source": [
        "beef_industry = df[df['2017 NAICS Title'].str.contains('Cattle', case=False)].copy()\n",
        "emissions_without_beef = df[~df['2017 NAICS Title'].str.contains('Cattle', case=False)].copy()\n",
        "\n",
        "data = [\n",
        "    beef_industry['Supply Chain Emission Factors without Margins'],\n",
        "    emissions_without_beef['Supply Chain Emission Factors without Margins']\n",
        "]"
      ],
      "metadata": {
        "id": "8I0XRbaQT5Kg"
      },
      "execution_count": null,
      "outputs": []
    },
    {
      "cell_type": "code",
      "source": [
        "sns.kdeplot(beef_industry['Supply Chain Emission Factors without Margins'], label='Beef Industry', fill=True)\n",
        "sns.kdeplot(emissions_without_beef['Supply Chain Emission Factors without Margins'], label='All Other Industries', fill=True)\n",
        "plt.xlabel('Emission Factors')\n",
        "plt.ylabel('Density')\n",
        "plt.title('Emission Density: Beef vs. Non-Beef Industries')\n",
        "plt.legend()\n",
        "plt.show()"
      ],
      "metadata": {
        "colab": {
          "base_uri": "https://localhost:8080/",
          "height": 472
        },
        "id": "paB7l4eTUX3N",
        "outputId": "b833992b-b8dd-47d8-e530-286b5b8a15bb"
      },
      "execution_count": null,
      "outputs": [
        {
          "output_type": "display_data",
          "data": {
            "text/plain": [
              "<Figure size 640x480 with 1 Axes>"
            ],
            "image/png": "[encoded data removed]"
          },
          "metadata": {}
        }
      ]
    },
    {
      "cell_type": "code",
      "source": [
        "beef_industry['Industry'] = 'Beef Industry'\n",
        "emissions_without_beef['Industry'] = 'All Other Industries'\n",
        "\n",
        "combined_data = pd.concat([beef_industry, emissions_without_beef])\n",
        "\n",
        "plt.figure(figsize=(8, 5))\n",
        "sns.boxplot(x='Industry', y='Supply Chain Emission Factors without Margins', data=combined_data)\n",
        "\n",
        "plt.xlabel('Industry')\n",
        "plt.ylabel('Emission Factors')\n",
        "plt.title('Comparison of Emission Factors: Beef vs. Non-Beef Industries')\n",
        "\n",
        "plt.show()"
      ],
      "metadata": {
        "colab": {
          "base_uri": "https://localhost:8080/",
          "height": 487
        },
        "id": "W8gum3kEjGbG",
        "outputId": "95425611-8e40-4c99-c4e1-53b8e1148584"
      },
      "execution_count": null,
      "outputs": [
        {
          "output_type": "display_data",
          "data": {
            "text/plain": [
              "<Figure size 800x500 with 1 Axes>"
            ],
            "image/png": "[encoded data removed]"
          },
          "metadata": {}
        }
      ]
    },
    {
      "cell_type": "markdown",
      "source": [
        "#### It Becomes clear from the above graphs that the average emissions from the beef and cattle industry are quite a bit higher than all other industries."
      ],
      "metadata": {
        "id": "4Hde0UhClwY_"
      }
    },
    {
      "cell_type": "markdown",
      "source": [
        "### Compare Margins\n",
        "\n",
        "Margins are the GHGs emitted during the parts of distribution which are not directly linked to production. Comparing the margins may be able to expose certain outliers with much higher margins than other producers."
      ],
      "metadata": {
        "id": "BIVjOwZnnE5u"
      }
    },
    {
      "cell_type": "code",
      "source": [
        "margins = df.sort_values(by='Margins of Supply Chain Emission Factors', ascending=False)\n",
        "# margins = df['Margins of Supply Chain Emission Factors'].sort_values(ascending=False)\n",
        "# print(f\"Mean: {margins.mean()}\")\n",
        "# print(f\"Median: {margins.median()}\")\n",
        "# print(f\"Mode: {margins.mode()}\")\n",
        "margins.head(10)"
      ],
      "metadata": {
        "id": "zomwlSWVkHXG",
        "colab": {
          "base_uri": "https://localhost:8080/",
          "height": 744
        },
        "outputId": "456a54bc-988c-49a2-fda5-2cb1501a8ba7"
      },
      "execution_count": 75,
      "outputs": [
        {
          "output_type": "execute_result",
          "data": {
            "text/plain": [
              "     2017 NAICS Code                                   2017 NAICS Title  \\\n",
              "82            212325    Clay and Ceramic and Refractory Minerals Mining   \n",
              "86            212399               All Other Nonmetallic Mineral Mining   \n",
              "85            212393       Other Chemical and Fertilizer Mineral Mining   \n",
              "79            212321                Construction Sand and Gravel Mining   \n",
              "80            212322                             Industrial Sand Mining   \n",
              "81            212324                        Kaolin and Ball Clay Mining   \n",
              "84            212392                              Phosphate Rock Mining   \n",
              "83            212391            Potash, Soda, and Borate Mineral Mining   \n",
              "294           327992  Ground or Treated Mineral and Earth Manufacturing   \n",
              "68            212113                                  Anthracite Mining   \n",
              "\n",
              "          GHG                               Unit  \\\n",
              "82   All GHGs  kg CO2e/2022 USD, purchaser price   \n",
              "86   All GHGs  kg CO2e/2022 USD, purchaser price   \n",
              "85   All GHGs  kg CO2e/2022 USD, purchaser price   \n",
              "79   All GHGs  kg CO2e/2022 USD, purchaser price   \n",
              "80   All GHGs  kg CO2e/2022 USD, purchaser price   \n",
              "81   All GHGs  kg CO2e/2022 USD, purchaser price   \n",
              "84   All GHGs  kg CO2e/2022 USD, purchaser price   \n",
              "83   All GHGs  kg CO2e/2022 USD, purchaser price   \n",
              "294  All GHGs  kg CO2e/2022 USD, purchaser price   \n",
              "68   All GHGs  kg CO2e/2022 USD, purchaser price   \n",
              "\n",
              "     Supply Chain Emission Factors without Margins  \\\n",
              "82                                           0.184   \n",
              "86                                           0.184   \n",
              "85                                           0.184   \n",
              "79                                           0.184   \n",
              "80                                           0.184   \n",
              "81                                           0.184   \n",
              "84                                           0.184   \n",
              "83                                           0.184   \n",
              "294                                          0.375   \n",
              "68                                           0.747   \n",
              "\n",
              "     Margins of Supply Chain Emission Factors  \\\n",
              "82                                      0.125   \n",
              "86                                      0.125   \n",
              "85                                      0.125   \n",
              "79                                      0.125   \n",
              "80                                      0.125   \n",
              "81                                      0.125   \n",
              "84                                      0.125   \n",
              "83                                      0.125   \n",
              "294                                     0.121   \n",
              "68                                      0.094   \n",
              "\n",
              "     Supply Chain Emission Factors with Margins Reference USEEIO Code  \n",
              "82                                        0.309                2123A0  \n",
              "86                                        0.309                2123A0  \n",
              "85                                        0.309                2123A0  \n",
              "79                                        0.309                2123A0  \n",
              "80                                        0.309                2123A0  \n",
              "81                                        0.309                2123A0  \n",
              "84                                        0.309                2123A0  \n",
              "83                                        0.309                2123A0  \n",
              "294                                       0.497                327992  \n",
              "68                                        0.841                212100  "
            ],
            "text/html": [
              "\n",
              "  <div id=\"df-7dac1f6a-96e5-4a09-8cb5-bdafc17429f1\" class=\"colab-df-container\">\n",
              "    <div>\n",
              "<style scoped>\n",
              "    .dataframe tbody tr th:only-of-type {\n",
              "        vertical-align: middle;\n",
              "    }\n",
              "\n",
              "    .dataframe tbody tr th {\n",
              "        vertical-align: top;\n",
              "    }\n",
              "\n",
              "    .dataframe thead th {\n",
              "        text-align: right;\n",
              "    }\n",
              "</style>\n",
              "<table border=\"1\" class=\"dataframe\">\n",
              "  <thead>\n",
              "    <tr style=\"text-align: right;\">\n",
              "      <th></th>\n",
              "      <th>2017 NAICS Code</th>\n",
              "      <th>2017 NAICS Title</th>\n",
              "      <th>GHG</th>\n",
              "      <th>Unit</th>\n",
              "      <th>Supply Chain Emission Factors without Margins</th>\n",
              "      <th>Margins of Supply Chain Emission Factors</th>\n",
              "      <th>Supply Chain Emission Factors with Margins</th>\n",
              "      <th>Reference USEEIO Code</th>\n",
              "    </tr>\n",
              "  </thead>\n",
              "  <tbody>\n",
              "    <tr>\n",
              "      <th>82</th>\n",
              "      <td>212325</td>\n",
              "      <td>Clay and Ceramic and Refractory Minerals Mining</td>\n",
              "      <td>All GHGs</td>\n",
              "      <td>kg CO2e/2022 USD, purchaser price</td>\n",
              "      <td>0.184</td>\n",
              "      <td>0.125</td>\n",
              "      <td>0.309</td>\n",
              "      <td>2123A0</td>\n",
              "    </tr>\n",
              "    <tr>\n",
              "      <th>86</th>\n",
              "      <td>212399</td>\n",
              "      <td>All Other Nonmetallic Mineral Mining</td>\n",
              "      <td>All GHGs</td>\n",
              "      <td>kg CO2e/2022 USD, purchaser price</td>\n",
              "      <td>0.184</td>\n",
              "      <td>0.125</td>\n",
              "      <td>0.309</td>\n",
              "      <td>2123A0</td>\n",
              "    </tr>\n",
              "    <tr>\n",
              "      <th>85</th>\n",
              "      <td>212393</td>\n",
              "      <td>Other Chemical and Fertilizer Mineral Mining</td>\n",
              "      <td>All GHGs</td>\n",
              "      <td>kg CO2e/2022 USD, purchaser price</td>\n",
              "      <td>0.184</td>\n",
              "      <td>0.125</td>\n",
              "      <td>0.309</td>\n",
              "      <td>2123A0</td>\n",
              "    </tr>\n",
              "    <tr>\n",
              "      <th>79</th>\n",
              "      <td>212321</td>\n",
              "      <td>Construction Sand and Gravel Mining</td>\n",
              "      <td>All GHGs</td>\n",
              "      <td>kg CO2e/2022 USD, purchaser price</td>\n",
              "      <td>0.184</td>\n",
              "      <td>0.125</td>\n",
              "      <td>0.309</td>\n",
              "      <td>2123A0</td>\n",
              "    </tr>\n",
              "    <tr>\n",
              "      <th>80</th>\n",
              "      <td>212322</td>\n",
              "      <td>Industrial Sand Mining</td>\n",
              "      <td>All GHGs</td>\n",
              "      <td>kg CO2e/2022 USD, purchaser price</td>\n",
              "      <td>0.184</td>\n",
              "      <td>0.125</td>\n",
              "      <td>0.309</td>\n",
              "      <td>2123A0</td>\n",
              "    </tr>\n",
              "    <tr>\n",
              "      <th>81</th>\n",
              "      <td>212324</td>\n",
              "      <td>Kaolin and Ball Clay Mining</td>\n",
              "      <td>All GHGs</td>\n",
              "      <td>kg CO2e/2022 USD, purchaser price</td>\n",
              "      <td>0.184</td>\n",
              "      <td>0.125</td>\n",
              "      <td>0.309</td>\n",
              "      <td>2123A0</td>\n",
              "    </tr>\n",
              "    <tr>\n",
              "      <th>84</th>\n",
              "      <td>212392</td>\n",
              "      <td>Phosphate Rock Mining</td>\n",
              "      <td>All GHGs</td>\n",
              "      <td>kg CO2e/2022 USD, purchaser price</td>\n",
              "      <td>0.184</td>\n",
              "      <td>0.125</td>\n",
              "      <td>0.309</td>\n",
              "      <td>2123A0</td>\n",
              "    </tr>\n",
              "    <tr>\n",
              "      <th>83</th>\n",
              "      <td>212391</td>\n",
              "      <td>Potash, Soda, and Borate Mineral Mining</td>\n",
              "      <td>All GHGs</td>\n",
              "      <td>kg CO2e/2022 USD, purchaser price</td>\n",
              "      <td>0.184</td>\n",
              "      <td>0.125</td>\n",
              "      <td>0.309</td>\n",
              "      <td>2123A0</td>\n",
              "    </tr>\n",
              "    <tr>\n",
              "      <th>294</th>\n",
              "      <td>327992</td>\n",
              "      <td>Ground or Treated Mineral and Earth Manufacturing</td>\n",
              "      <td>All GHGs</td>\n",
              "      <td>kg CO2e/2022 USD, purchaser price</td>\n",
              "      <td>0.375</td>\n",
              "      <td>0.121</td>\n",
              "      <td>0.497</td>\n",
              "      <td>327992</td>\n",
              "    </tr>\n",
              "    <tr>\n",
              "      <th>68</th>\n",
              "      <td>212113</td>\n",
              "      <td>Anthracite Mining</td>\n",
              "      <td>All GHGs</td>\n",
              "      <td>kg CO2e/2022 USD, purchaser price</td>\n",
              "      <td>0.747</td>\n",
              "      <td>0.094</td>\n",
              "      <td>0.841</td>\n",
              "      <td>212100</td>\n",
              "    </tr>\n",
              "  </tbody>\n",
              "</table>\n",
              "</div>\n",
              "    <div class=\"colab-df-buttons\">\n",
              "\n",
              "  <div class=\"colab-df-container\">\n",
              "    <button class=\"colab-df-convert\" onclick=\"convertToInteractive('df-7dac1f6a-96e5-4a09-8cb5-bdafc17429f1')\"\n",
              "            title=\"Convert this dataframe to an interactive table.\"\n",
              "            style=\"display:none;\">\n",
              "\n",
              "  <svg xmlns=\"http://www.w3.org/2000/svg\" height=\"24px\" viewBox=\"0 -960 960 960\">\n",
              "    <path d=\"M120-120v-720h720v720H120Zm60-500h600v-160H180v160Zm220 220h160v-160H400v160Zm0 220h160v-160H400v160ZM180-400h160v-160H180v160Zm440 0h160v-160H620v160ZM180-180h160v-160H180v160Zm440 0h160v-160H620v160Z\"/>\n",
              "  </svg>\n",
              "    </button>\n",
              "\n",
              "  <style>\n",
              "    .colab-df-container {\n",
              "      display:flex;\n",
              "      gap: 12px;\n",
              "    }\n",
              "\n",
              "    .colab-df-convert {\n",
              "      background-color: #E8F0FE;\n",
              "      border: none;\n",
              "      border-radius: 50%;\n",
              "      cursor: pointer;\n",
              "      display: none;\n",
              "      fill: #1967D2;\n",
              "      height: 32px;\n",
              "      padding: 0 0 0 0;\n",
              "      width: 32px;\n",
              "    }\n",
              "\n",
              "    .colab-df-convert:hover {\n",
              "      background-color: #E2EBFA;\n",
              "      box-shadow: 0px 1px 2px rgba(60, 64, 67, 0.3), 0px 1px 3px 1px rgba(60, 64, 67, 0.15);\n",
              "      fill: #174EA6;\n",
              "    }\n",
              "\n",
              "    .colab-df-buttons div {\n",
              "      margin-bottom: 4px;\n",
              "    }\n",
              "\n",
              "    [theme=dark] .colab-df-convert {\n",
              "      background-color: #3B4455;\n",
              "      fill: #D2E3FC;\n",
              "    }\n",
              "\n",
              "    [theme=dark] .colab-df-convert:hover {\n",
              "      background-color: #434B5C;\n",
              "      box-shadow: 0px 1px 3px 1px rgba(0, 0, 0, 0.15);\n",
              "      filter: drop-shadow(0px 1px 2px rgba(0, 0, 0, 0.3));\n",
              "      fill: #FFFFFF;\n",
              "    }\n",
              "  </style>\n",
              "\n",
              "    <script>\n",
              "      const buttonEl =\n",
              "        document.querySelector('#df-7dac1f6a-96e5-4a09-8cb5-bdafc17429f1 button.colab-df-convert');\n",
              "      buttonEl.style.display =\n",
              "        google.colab.kernel.accessAllowed ? 'block' : 'none';\n",
              "\n",
              "      async function convertToInteractive(key) {\n",
              "        const element = document.querySelector('#df-7dac1f6a-96e5-4a09-8cb5-bdafc17429f1');\n",
              "        const dataTable =\n",
              "          await google.colab.kernel.invokeFunction('convertToInteractive',\n",
              "                                                    [key], {});\n",
              "        if (!dataTable) return;\n",
              "\n",
              "        const docLinkHtml = 'Like what you see? Visit the ' +\n",
              "          '<a target=\"_blank\" href=https://colab.research.google.com/notebooks/data_table.ipynb>data table notebook</a>'\n",
              "          + ' to learn more about interactive tables.';\n",
              "        element.innerHTML = '';\n",
              "        dataTable['output_type'] = 'display_data';\n",
              "        await google.colab.output.renderOutput(dataTable, element);\n",
              "        const docLink = document.createElement('div');\n",
              "        docLink.innerHTML = docLinkHtml;\n",
              "        element.appendChild(docLink);\n",
              "      }\n",
              "    </script>\n",
              "  </div>\n",
              "\n",
              "\n",
              "<div id=\"df-63446889-c7e9-4bc3-8ae3-423fe1279284\">\n",
              "  <button class=\"colab-df-quickchart\" onclick=\"quickchart('df-63446889-c7e9-4bc3-8ae3-423fe1279284')\"\n",
              "            title=\"Suggest charts\"\n",
              "            style=\"display:none;\">\n",
              "\n",
              "<svg xmlns=\"http://www.w3.org/2000/svg\" height=\"24px\"viewBox=\"0 0 24 24\"\n",
              "     width=\"24px\">\n",
              "    <g>\n",
              "        <path d=\"M19 3H5c-1.1 0-2 .9-2 2v14c0 1.1.9 2 2 2h14c1.1 0 2-.9 2-2V5c0-1.1-.9-2-2-2zM9 17H7v-7h2v7zm4 0h-2V7h2v10zm4 0h-2v-4h2v4z\"/>\n",
              "    </g>\n",
              "</svg>\n",
              "  </button>\n",
              "\n",
              "<style>\n",
              "  .colab-df-quickchart {\n",
              "      --bg-color: #E8F0FE;\n",
              "      --fill-color: #1967D2;\n",
              "      --hover-bg-color: #E2EBFA;\n",
              "      --hover-fill-color: #174EA6;\n",
              "      --disabled-fill-color: #AAA;\n",
              "      --disabled-bg-color: #DDD;\n",
              "  }\n",
              "\n",
              "  [theme=dark] .colab-df-quickchart {\n",
              "      --bg-color: #3B4455;\n",
              "      --fill-color: #D2E3FC;\n",
              "      --hover-bg-color: #434B5C;\n",
              "      --hover-fill-color: #FFFFFF;\n",
              "      --disabled-bg-color: #3B4455;\n",
              "      --disabled-fill-color: #666;\n",
              "  }\n",
              "\n",
              "  .colab-df-quickchart {\n",
              "    background-color: var(--bg-color);\n",
              "    border: none;\n",
              "    border-radius: 50%;\n",
              "    cursor: pointer;\n",
              "    display: none;\n",
              "    fill: var(--fill-color);\n",
              "    height: 32px;\n",
              "    padding: 0;\n",
              "    width: 32px;\n",
              "  }\n",
              "\n",
              "  .colab-df-quickchart:hover {\n",
              "    background-color: var(--hover-bg-color);\n",
              "    box-shadow: 0 1px 2px rgba(60, 64, 67, 0.3), 0 1px 3px 1px rgba(60, 64, 67, 0.15);\n",
              "    fill: var(--button-hover-fill-color);\n",
              "  }\n",
              "\n",
              "  .colab-df-quickchart-complete:disabled,\n",
              "  .colab-df-quickchart-complete:disabled:hover {\n",
              "    background-color: var(--disabled-bg-color);\n",
              "    fill: var(--disabled-fill-color);\n",
              "    box-shadow: none;\n",
              "  }\n",
              "\n",
              "  .colab-df-spinner {\n",
              "    border: 2px solid var(--fill-color);\n",
              "    border-color: transparent;\n",
              "    border-bottom-color: var(--fill-color);\n",
              "    animation:\n",
              "      spin 1s steps(1) infinite;\n",
              "  }\n",
              "\n",
              "  @keyframes spin {\n",
              "    0% {\n",
              "      border-color: transparent;\n",
              "      border-bottom-color: var(--fill-color);\n",
              "      border-left-color: var(--fill-color);\n",
              "    }\n",
              "    20% {\n",
              "      border-color: transparent;\n",
              "      border-left-color: var(--fill-color);\n",
              "      border-top-color: var(--fill-color);\n",
              "    }\n",
              "    30% {\n",
              "      border-color: transparent;\n",
              "      border-left-color: var(--fill-color);\n",
              "      border-top-color: var(--fill-color);\n",
              "      border-right-color: var(--fill-color);\n",
              "    }\n",
              "    40% {\n",
              "      border-color: transparent;\n",
              "      border-right-color: var(--fill-color);\n",
              "      border-top-color: var(--fill-color);\n",
              "    }\n",
              "    60% {\n",
              "      border-color: transparent;\n",
              "      border-right-color: var(--fill-color);\n",
              "    }\n",
              "    80% {\n",
              "      border-color: transparent;\n",
              "      border-right-color: var(--fill-color);\n",
              "      border-bottom-color: var(--fill-color);\n",
              "    }\n",
              "    90% {\n",
              "      border-color: transparent;\n",
              "      border-bottom-color: var(--fill-color);\n",
              "    }\n",
              "  }\n",
              "</style>\n",
              "\n",
              "  <script>\n",
              "    async function quickchart(key) {\n",
              "      const quickchartButtonEl =\n",
              "        document.querySelector('#' + key + ' button');\n",
              "      quickchartButtonEl.disabled = true;  // To prevent multiple clicks.\n",
              "      quickchartButtonEl.classList.add('colab-df-spinner');\n",
              "      try {\n",
              "        const charts = await google.colab.kernel.invokeFunction(\n",
              "            'suggestCharts', [key], {});\n",
              "      } catch (error) {\n",
              "        console.error('Error during call to suggestCharts:', error);\n",
              "      }\n",
              "      quickchartButtonEl.classList.remove('colab-df-spinner');\n",
              "      quickchartButtonEl.classList.add('colab-df-quickchart-complete');\n",
              "    }\n",
              "    (() => {\n",
              "      let quickchartButtonEl =\n",
              "        document.querySelector('#df-63446889-c7e9-4bc3-8ae3-423fe1279284 button');\n",
              "      quickchartButtonEl.style.display =\n",
              "        google.colab.kernel.accessAllowed ? 'block' : 'none';\n",
              "    })();\n",
              "  </script>\n",
              "</div>\n",
              "\n",
              "    </div>\n",
              "  </div>\n"
            ],
            "application/vnd.google.colaboratory.intrinsic+json": {
              "type": "dataframe",
              "variable_name": "margins",
              "summary": "{\n  \"name\": \"margins\",\n  \"rows\": 1016,\n  \"fields\": [\n    {\n      \"column\": \"2017 NAICS Code\",\n      \"properties\": {\n        \"dtype\": \"number\",\n        \"std\": 164942,\n        \"min\": 111110,\n        \"max\": 813990,\n        \"num_unique_values\": 1016,\n        \"samples\": [\n          445110,\n          541512,\n          311514\n        ],\n        \"semantic_type\": \"\",\n        \"description\": \"\"\n      }\n    },\n    {\n      \"column\": \"2017 NAICS Title\",\n      \"properties\": {\n        \"dtype\": \"string\",\n        \"num_unique_values\": 1016,\n        \"samples\": [\n          \"Supermarkets and Other Grocery (except Convenience) Stores\",\n          \"Computer Systems Design Services\",\n          \"Dry, Condensed, and Evaporated Dairy Product Manufacturing\"\n        ],\n        \"semantic_type\": \"\",\n        \"description\": \"\"\n      }\n    },\n    {\n      \"column\": \"GHG\",\n      \"properties\": {\n        \"dtype\": \"category\",\n        \"num_unique_values\": 1,\n        \"samples\": [\n          \"All GHGs\"\n        ],\n        \"semantic_type\": \"\",\n        \"description\": \"\"\n      }\n    },\n    {\n      \"column\": \"Unit\",\n      \"properties\": {\n        \"dtype\": \"category\",\n        \"num_unique_values\": 1,\n        \"samples\": [\n          \"kg CO2e/2022 USD, purchaser price\"\n        ],\n        \"semantic_type\": \"\",\n        \"description\": \"\"\n      }\n    },\n    {\n      \"column\": \"Supply Chain Emission Factors without Margins\",\n      \"properties\": {\n        \"dtype\": \"number\",\n        \"std\": 0.3147682578067958,\n        \"min\": 0.026,\n        \"max\": 3.846,\n        \"num_unique_values\": 274,\n        \"samples\": [\n          0.053\n        ],\n        \"semantic_type\": \"\",\n        \"description\": \"\"\n      }\n    },\n    {\n      \"column\": \"Margins of Supply Chain Emission Factors\",\n      \"properties\": {\n        \"dtype\": \"number\",\n        \"std\": 0.023367125941466397,\n        \"min\": 0.0,\n        \"max\": 0.125,\n        \"num_unique_values\": 69,\n        \"samples\": [\n          0.052\n        ],\n        \"semantic_type\": \"\",\n        \"description\": \"\"\n      }\n    },\n    {\n      \"column\": \"Supply Chain Emission Factors with Margins\",\n      \"properties\": {\n        \"dtype\": \"number\",\n        \"std\": 0.3214166354609929,\n        \"min\": 0.029,\n        \"max\": 3.924,\n        \"num_unique_values\": 281,\n        \"samples\": [\n          0.099\n        ],\n        \"semantic_type\": \"\",\n        \"description\": \"\"\n      }\n    },\n    {\n      \"column\": \"Reference USEEIO Code\",\n      \"properties\": {\n        \"dtype\": \"category\",\n        \"num_unique_values\": 386,\n        \"samples\": [\n          \"4B0000\"\n        ],\n        \"semantic_type\": \"\",\n        \"description\": \"\"\n      }\n    }\n  ]\n}"
            }
          },
          "metadata": {},
          "execution_count": 75
        }
      ]
    },
    {
      "cell_type": "code",
      "source": [
        "mining_industry = df[df['2017 NAICS Title'].str.contains('Mining', case=False)].copy()\n",
        "margins_without_mining = df[~df['2017 NAICS Title'].str.contains('Mining', case=False)].copy()\n",
        "\n",
        "sns.kdeplot(mining_industry['Supply Chain Emission Factors without Margins'], label='Mining Industry', fill=True)\n",
        "sns.kdeplot(margins_without_mining['Supply Chain Emission Factors without Margins'], label='All Other Industries', fill=True)\n",
        "\n",
        "\n",
        "plt.xlabel('Emission Factors')\n",
        "plt.ylabel('Density')\n",
        "plt.title('Emission Density: Mining vs. Non-Mining Industries')\n",
        "plt.legend()\n",
        "plt.show()"
      ],
      "metadata": {
        "colab": {
          "base_uri": "https://localhost:8080/",
          "height": 472
        },
        "id": "OPZSt-URoEEh",
        "outputId": "bace9914-2123-4cba-cbbf-6d12bc037764"
      },
      "execution_count": 82,
      "outputs": [
        {
          "output_type": "display_data",
          "data": {
            "text/plain": [
              "<Figure size 640x480 with 1 Axes>"
            ],
            "image/png": "[encoded data removed]"
          },
          "metadata": {}
        }
      ]
    },
    {
      "cell_type": "markdown",
      "source": [
        "#### The above graph allows us to draw an interesting conclusion. It would seem that the mining industry, while not releasing that many emissions during production, releases the most emissions during non-production related transport of"
      ],
      "metadata": {
        "id": "gFlFsrRSsdC-"
      }
    },
    {
      "cell_type": "markdown",
      "source": [
        "# Conclusions\n",
        "\n",
        "During this analysis of Greenhouse Gas emissions produced by various industries there seem to be certain trends among the data. The first trend explored was the beef and cattle industry's emissions. It was found that the Beef and Cattle industry produce some of the most emissions during the raw production process than most other industries. Cement, however, found itself at the top of the emission production list. The next trend was found while trying to answer the question \"Which Industry produces the most GHG emissions during non purely production related processes?\" The answer was the mining industry. While the mining industry may not create the most emissions during production, it does produce the most with its marginal processes."
      ],
      "metadata": {
        "id": "m7M6tpbYt4jc"
      }
    }
  ]
}